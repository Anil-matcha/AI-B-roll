{
  "cells": [
    {
      "cell_type": "markdown",
      "metadata": {
        "id": "view-in-github",
        "colab_type": "text"
      },
      "source": [
        "<a href=\"https://colab.research.google.com/github/Anil-matcha/AI-Broll/blob/main/AI_Broll.ipynb\" target=\"_parent\"><img src=\"https://colab.research.google.com/assets/colab-badge.svg\" alt=\"Open In Colab\"/></a>"
      ]
    },
    {
      "cell_type": "code",
      "execution_count": null,
      "metadata": {
        "id": "LELlAM5Qc6W_"
      },
      "outputs": [],
      "source": [
        "!pip install git+https://github.com/openai/whisper.git"
      ]
    },
    {
      "cell_type": "code",
      "execution_count": null,
      "metadata": {
        "id": "MFfpIZwle9cn"
      },
      "outputs": [],
      "source": [
        "!ffmpeg -i video.mp4 -ab 160k -ac 2 -ar 44100 -vn audio.wav"
      ]
    },
    {
      "cell_type": "code",
      "execution_count": null,
      "metadata": {
        "colab": {
          "base_uri": "https://localhost:8080/"
        },
        "id": "db21samCfLDg",
        "outputId": "c289b818-574a-4a6e-f80b-48042050f631"
      },
      "outputs": [
        {
          "name": "stderr",
          "output_type": "stream",
          "text": [
            "100%|█████████████████████████████████████| 1.42G/1.42G [00:28<00:00, 53.2MiB/s]\n"
          ]
        }
      ],
      "source": [
        "import whisper\n",
        "\n",
        "# Load the model\n",
        "model = whisper.load_model(\"medium\")"
      ]
    },
    {
      "cell_type": "code",
      "execution_count": null,
      "metadata": {
        "colab": {
          "background_save": true
        },
        "id": "zIvHvghpfWFz",
        "outputId": "de02898a-f470-4ffe-8d72-291b8fcbfe15"
      },
      "outputs": [
        {
          "name": "stderr",
          "output_type": "stream",
          "text": [
            "/usr/local/lib/python3.10/dist-packages/whisper/transcribe.py:126: UserWarning: FP16 is not supported on CPU; using FP32 instead\n",
            "  warnings.warn(\"FP16 is not supported on CPU; using FP32 instead\")\n"
          ]
        }
      ],
      "source": [
        "result = model.transcribe(\"audio.wav\")"
      ]
    },
    {
      "cell_type": "code",
      "execution_count": null,
      "metadata": {
        "id": "VrCJaSAZfgr1"
      },
      "outputs": [],
      "source": [
        "segments = result[\"segments\"]"
      ]
    },
    {
      "cell_type": "code",
      "execution_count": null,
      "metadata": {
        "colab": {
          "base_uri": "https://localhost:8080/"
        },
        "id": "OSyf5gvSg8lM",
        "outputId": "ee6aa7db-6e2d-4ca3-e70a-8b2a1d3ada82"
      },
      "outputs": [
        {
          "name": "stdout",
          "output_type": "stream",
          "text": [
            "[{'id': 0, 'seek': 0, 'start': 0.0, 'end': 15.56, 'text': ' Hey guys, welcome to Vadoo TV and today we are talking about something very very important.', 'tokens': [50364, 1911, 1074, 11, 2928, 281, 691, 1573, 78, 3558, 293, 965, 321, 366, 1417, 466, 746, 588, 588, 1021, 13, 51142], 'temperature': 0.0, 'avg_logprob': -0.33609591397372157, 'compression_ratio': 1.4647887323943662, 'no_speech_prob': 0.07037503272294998}, {'id': 1, 'seek': 0, 'start': 15.56, 'end': 18.2, 'text': ' We are talking about competition.', 'tokens': [51142, 492, 366, 1417, 466, 6211, 13, 51274], 'temperature': 0.0, 'avg_logprob': -0.33609591397372157, 'compression_ratio': 1.4647887323943662, 'no_speech_prob': 0.07037503272294998}, {'id': 2, 'seek': 0, 'start': 18.2, 'end': 25.240000000000002, 'text': ' Now as a content creator, marketer, you do have a lot of competition but so do we.', 'tokens': [51274, 823, 382, 257, 2701, 14181, 11, 2142, 260, 11, 291, 360, 362, 257, 688, 295, 6211, 457, 370, 360, 321, 13, 51626], 'temperature': 0.0, 'avg_logprob': -0.33609591397372157, 'compression_ratio': 1.4647887323943662, 'no_speech_prob': 0.07037503272294998}, {'id': 3, 'seek': 2524, 'start': 25.599999999999998, 'end': 32.839999999999996, 'text': ' One of our biggest competitors is Vimeo and today we are going to tell you why you should choose us instead.', 'tokens': [50382, 1485, 295, 527, 3880, 18333, 307, 691, 1312, 78, 293, 965, 321, 366, 516, 281, 980, 291, 983, 291, 820, 2826, 505, 2602, 13, 50744], 'temperature': 0.0, 'avg_logprob': -0.22333330321080477, 'compression_ratio': 1.6489795918367347, 'no_speech_prob': 0.3997950553894043}, {'id': 4, 'seek': 2524, 'start': 32.839999999999996, 'end': 37.64, 'text': ' Now the comparison is going to be based on a budget of 20 dollars.', 'tokens': [50744, 823, 264, 9660, 307, 516, 281, 312, 2361, 322, 257, 4706, 295, 945, 3808, 13, 50984], 'temperature': 0.0, 'avg_logprob': -0.22333330321080477, 'compression_ratio': 1.6489795918367347, 'no_speech_prob': 0.3997950553894043}, {'id': 5, 'seek': 2524, 'start': 37.64, 'end': 48.84, 'text': ' Now I know for a lot of people 20 dollars may not be a lot but for a lot of the new content creators, marketers, entrepreneurs, it is a lot of money.', 'tokens': [50984, 823, 286, 458, 337, 257, 688, 295, 561, 945, 3808, 815, 406, 312, 257, 688, 457, 337, 257, 688, 295, 264, 777, 2701, 16039, 11, 48003, 11, 12639, 11, 309, 307, 257, 688, 295, 1460, 13, 51544], 'temperature': 0.0, 'avg_logprob': -0.22333330321080477, 'compression_ratio': 1.6489795918367347, 'no_speech_prob': 0.3997950553894043}, {'id': 6, 'seek': 2524, 'start': 48.84, 'end': 54.239999999999995, 'text': \" And we want to ensure that we give you your money's total worth and then some.\", 'tokens': [51544, 400, 321, 528, 281, 5586, 300, 321, 976, 291, 428, 1460, 311, 3217, 3163, 293, 550, 512, 13, 51814], 'temperature': 0.0, 'avg_logprob': -0.22333330321080477, 'compression_ratio': 1.6489795918367347, 'no_speech_prob': 0.3997950553894043}, {'id': 7, 'seek': 5424, 'start': 54.440000000000005, 'end': 55.440000000000005, 'text': \" That's right.\", 'tokens': [50374, 663, 311, 558, 13, 50424], 'temperature': 0.0, 'avg_logprob': -0.13203647761668974, 'compression_ratio': 1.5646551724137931, 'no_speech_prob': 0.01097068376839161}, {'id': 8, 'seek': 5424, 'start': 55.440000000000005, 'end': 63.84, 'text': \" So today's comparison is going to be based on 20 dollars and what that gets you in Vadoo TV is 100 GB of storage space.\", 'tokens': [50424, 407, 965, 311, 9660, 307, 516, 281, 312, 2361, 322, 945, 3808, 293, 437, 300, 2170, 291, 294, 691, 1573, 78, 3558, 307, 2319, 26809, 295, 6725, 1901, 13, 50844], 'temperature': 0.0, 'avg_logprob': -0.13203647761668974, 'compression_ratio': 1.5646551724137931, 'no_speech_prob': 0.01097068376839161}, {'id': 9, 'seek': 5424, 'start': 63.84, 'end': 68.64, 'text': ' In comparison to that, you just get 20 GB per week on Vimeo.', 'tokens': [50844, 682, 9660, 281, 300, 11, 291, 445, 483, 945, 26809, 680, 1243, 322, 691, 1312, 78, 13, 51084], 'temperature': 0.0, 'avg_logprob': -0.13203647761668974, 'compression_ratio': 1.5646551724137931, 'no_speech_prob': 0.01097068376839161}, {'id': 10, 'seek': 5424, 'start': 68.64, 'end': 75.84, 'text': ' Also, we allow you to have three people in your team that can concurrently sign in.', 'tokens': [51084, 2743, 11, 321, 2089, 291, 281, 362, 1045, 561, 294, 428, 1469, 300, 393, 37702, 356, 1465, 294, 13, 51444], 'temperature': 0.0, 'avg_logprob': -0.13203647761668974, 'compression_ratio': 1.5646551724137931, 'no_speech_prob': 0.01097068376839161}, {'id': 11, 'seek': 5424, 'start': 75.84, 'end': 79.84, 'text': ' Compared to that, Vimeo also does allow you.', 'tokens': [51444, 30539, 281, 300, 11, 691, 1312, 78, 611, 775, 2089, 291, 13, 51644], 'temperature': 0.0, 'avg_logprob': -0.13203647761668974, 'compression_ratio': 1.5646551724137931, 'no_speech_prob': 0.01097068376839161}, {'id': 12, 'seek': 5424, 'start': 79.84, 'end': 83.24000000000001, 'text': ' But that is where the similarities end.', 'tokens': [51644, 583, 300, 307, 689, 264, 24197, 917, 13, 51814], 'temperature': 0.0, 'avg_logprob': -0.13203647761668974, 'compression_ratio': 1.5646551724137931, 'no_speech_prob': 0.01097068376839161}, {'id': 13, 'seek': 8324, 'start': 83.44, 'end': 84.44, 'text': \" That's right.\", 'tokens': [50374, 663, 311, 558, 13, 50424], 'temperature': 0.0, 'avg_logprob': -0.1628419743027798, 'compression_ratio': 1.5763546798029557, 'no_speech_prob': 0.01994786597788334}, {'id': 14, 'seek': 8324, 'start': 84.44, 'end': 86.64, 'text': ' That is where the similarities end.', 'tokens': [50424, 663, 307, 689, 264, 24197, 917, 13, 50534], 'temperature': 0.0, 'avg_logprob': -0.1628419743027798, 'compression_ratio': 1.5763546798029557, 'no_speech_prob': 0.01994786597788334}, {'id': 15, 'seek': 8324, 'start': 86.64, 'end': 93.64, 'text': ' What we offer you above this is firstly, you can have CTA and lead generation.', 'tokens': [50534, 708, 321, 2626, 291, 3673, 341, 307, 27376, 11, 291, 393, 362, 383, 8241, 293, 1477, 5125, 13, 50884], 'temperature': 0.0, 'avg_logprob': -0.1628419743027798, 'compression_ratio': 1.5763546798029557, 'no_speech_prob': 0.01994786597788334}, {'id': 16, 'seek': 8324, 'start': 93.64, 'end': 95.83999999999999, 'text': ' You can have unbranded videos.', 'tokens': [50884, 509, 393, 362, 517, 30476, 292, 2145, 13, 50994], 'temperature': 0.0, 'avg_logprob': -0.1628419743027798, 'compression_ratio': 1.5763546798029557, 'no_speech_prob': 0.01994786597788334}, {'id': 17, 'seek': 8324, 'start': 95.83999999999999, 'end': 103.24, 'text': ' Now unbranded videos means clear cut videos, no watermark here, no advertisement there, nothing like that.', 'tokens': [50994, 823, 517, 30476, 292, 2145, 1355, 1850, 1723, 2145, 11, 572, 1281, 5638, 510, 11, 572, 31370, 456, 11, 1825, 411, 300, 13, 51364], 'temperature': 0.0, 'avg_logprob': -0.1628419743027798, 'compression_ratio': 1.5763546798029557, 'no_speech_prob': 0.01994786597788334}, {'id': 18, 'seek': 8324, 'start': 103.24, 'end': 107.03999999999999, 'text': \" It's your video, your content and your landing pages.\", 'tokens': [51364, 467, 311, 428, 960, 11, 428, 2701, 293, 428, 11202, 7183, 13, 51554], 'temperature': 0.0, 'avg_logprob': -0.1628419743027798, 'compression_ratio': 1.5763546798029557, 'no_speech_prob': 0.01994786597788334}, {'id': 19, 'seek': 10704, 'start': 107.24000000000001, 'end': 119.24000000000001, 'text': ' We also allow you to customize your video player, customize your landing page, add affiliate links, add various links, generate lead from the same page.', 'tokens': [50374, 492, 611, 2089, 291, 281, 19734, 428, 960, 4256, 11, 19734, 428, 11202, 3028, 11, 909, 23975, 6123, 11, 909, 3683, 6123, 11, 8460, 1477, 490, 264, 912, 3028, 13, 50974], 'temperature': 0.0, 'avg_logprob': -0.10778458574984937, 'compression_ratio': 1.855072463768116, 'no_speech_prob': 0.2760944962501526}, {'id': 20, 'seek': 10704, 'start': 119.24000000000001, 'end': 120.24000000000001, 'text': \" But that's not it.\", 'tokens': [50974, 583, 300, 311, 406, 309, 13, 51024], 'temperature': 0.0, 'avg_logprob': -0.10778458574984937, 'compression_ratio': 1.855072463768116, 'no_speech_prob': 0.2760944962501526}, {'id': 21, 'seek': 10704, 'start': 120.24000000000001, 'end': 129.24, 'text': ' We also allow you something known as video requests, wherein you can request your customers to send in their videos, which can be displayed there.', 'tokens': [51024, 492, 611, 2089, 291, 746, 2570, 382, 960, 12475, 11, 43531, 291, 393, 5308, 428, 4581, 281, 2845, 294, 641, 2145, 11, 597, 393, 312, 16372, 456, 13, 51474], 'temperature': 0.0, 'avg_logprob': -0.10778458574984937, 'compression_ratio': 1.855072463768116, 'no_speech_prob': 0.2760944962501526}, {'id': 22, 'seek': 10704, 'start': 129.24, 'end': 130.24, 'text': \" But that's not all.\", 'tokens': [51474, 583, 300, 311, 406, 439, 13, 51524], 'temperature': 0.0, 'avg_logprob': -0.10778458574984937, 'compression_ratio': 1.855072463768116, 'no_speech_prob': 0.2760944962501526}, {'id': 23, 'seek': 10704, 'start': 130.24, 'end': 133.64000000000001, 'text': ' We also allow you for a video pop-up feature.', 'tokens': [51524, 492, 611, 2089, 291, 337, 257, 960, 1665, 12, 1010, 4111, 13, 51694], 'temperature': 0.0, 'avg_logprob': -0.10778458574984937, 'compression_ratio': 1.855072463768116, 'no_speech_prob': 0.2760944962501526}, {'id': 24, 'seek': 13364, 'start': 133.64, 'end': 139.64, 'text': ' Now, we have seen a lot of services that have these little chatbot icons and you chat with an AI.', 'tokens': [50364, 823, 11, 321, 362, 1612, 257, 688, 295, 3328, 300, 362, 613, 707, 5081, 18870, 23308, 293, 291, 5081, 365, 364, 7318, 13, 50664], 'temperature': 0.0, 'avg_logprob': -0.09142286470620939, 'compression_ratio': 1.6554621848739495, 'no_speech_prob': 0.052237335592508316}, {'id': 25, 'seek': 13364, 'start': 139.64, 'end': 149.04, 'text': ' But what if the customer types something or needs to know about something and you can directly show them a video in that little chat box?', 'tokens': [50664, 583, 437, 498, 264, 5474, 3467, 746, 420, 2203, 281, 458, 466, 746, 293, 291, 393, 3838, 855, 552, 257, 960, 294, 300, 707, 5081, 2424, 30, 51134], 'temperature': 0.0, 'avg_logprob': -0.09142286470620939, 'compression_ratio': 1.6554621848739495, 'no_speech_prob': 0.052237335592508316}, {'id': 26, 'seek': 13364, 'start': 149.04, 'end': 151.04, 'text': \" That's what I'm talking about.\", 'tokens': [51134, 663, 311, 437, 286, 478, 1417, 466, 13, 51234], 'temperature': 0.0, 'avg_logprob': -0.09142286470620939, 'compression_ratio': 1.6554621848739495, 'no_speech_prob': 0.052237335592508316}, {'id': 27, 'seek': 13364, 'start': 151.04, 'end': 154.44, 'text': ' Change, differentiation and uniqueness.', 'tokens': [51234, 15060, 11, 38902, 293, 48294, 13, 51404], 'temperature': 0.0, 'avg_logprob': -0.09142286470620939, 'compression_ratio': 1.6554621848739495, 'no_speech_prob': 0.052237335592508316}, {'id': 28, 'seek': 13364, 'start': 154.44, 'end': 156.64, 'text': ' We want to provide you with all of that.', 'tokens': [51404, 492, 528, 281, 2893, 291, 365, 439, 295, 300, 13, 51514], 'temperature': 0.0, 'avg_logprob': -0.09142286470620939, 'compression_ratio': 1.6554621848739495, 'no_speech_prob': 0.052237335592508316}, {'id': 29, 'seek': 13364, 'start': 156.64, 'end': 159.04, 'text': \" That's not all. We also want to keep you safe.\", 'tokens': [51514, 663, 311, 406, 439, 13, 492, 611, 528, 281, 1066, 291, 3273, 13, 51634], 'temperature': 0.0, 'avg_logprob': -0.09142286470620939, 'compression_ratio': 1.6554621848739495, 'no_speech_prob': 0.052237335592508316}, {'id': 30, 'seek': 15904, 'start': 159.04, 'end': 166.04, 'text': ' So within our $19 service also, you have the encryption ability.', 'tokens': [50364, 407, 1951, 527, 1848, 3405, 2643, 611, 11, 291, 362, 264, 29575, 3485, 13, 50714], 'temperature': 0.0, 'avg_logprob': -0.1603603570357613, 'compression_ratio': 1.490990990990991, 'no_speech_prob': 0.020094992592930794}, {'id': 31, 'seek': 15904, 'start': 166.04, 'end': 172.04, 'text': \" That's right. Your premium videos can be encrypted, password protected.\", 'tokens': [50714, 663, 311, 558, 13, 2260, 12049, 2145, 393, 312, 36663, 11, 11524, 10594, 13, 51014], 'temperature': 0.0, 'avg_logprob': -0.1603603570357613, 'compression_ratio': 1.490990990990991, 'no_speech_prob': 0.020094992592930794}, {'id': 32, 'seek': 15904, 'start': 172.04, 'end': 176.23999999999998, 'text': \" That's right. We want to offer you whatever is the best.\", 'tokens': [51014, 663, 311, 558, 13, 492, 528, 281, 2626, 291, 2035, 307, 264, 1151, 13, 51224], 'temperature': 0.0, 'avg_logprob': -0.1603603570357613, 'compression_ratio': 1.490990990990991, 'no_speech_prob': 0.020094992592930794}, {'id': 33, 'seek': 15904, 'start': 176.23999999999998, 'end': 183.84, 'text': \" So, I mean, if till now you haven't clicked on the link below and gone to Vado TV, what are you even doing?\", 'tokens': [51224, 407, 11, 286, 914, 11, 498, 4288, 586, 291, 2378, 380, 23370, 322, 264, 2113, 2507, 293, 2780, 281, 691, 1573, 3558, 11, 437, 366, 291, 754, 884, 30, 51604], 'temperature': 0.0, 'avg_logprob': -0.1603603570357613, 'compression_ratio': 1.490990990990991, 'no_speech_prob': 0.020094992592930794}, {'id': 34, 'seek': 15904, 'start': 183.84, 'end': 184.64, 'text': ' Right?', 'tokens': [51604, 1779, 30, 51644], 'temperature': 0.0, 'avg_logprob': -0.1603603570357613, 'compression_ratio': 1.490990990990991, 'no_speech_prob': 0.020094992592930794}, {'id': 35, 'seek': 15904, 'start': 184.64, 'end': 187.04, 'text': ' Because sign up first.', 'tokens': [51644, 1436, 1465, 493, 700, 13, 51764], 'temperature': 0.0, 'avg_logprob': -0.1603603570357613, 'compression_ratio': 1.490990990990991, 'no_speech_prob': 0.020094992592930794}, {'id': 36, 'seek': 18704, 'start': 187.04, 'end': 190.04, 'text': ' Well, your competition has already started doing it.', 'tokens': [50364, 1042, 11, 428, 6211, 575, 1217, 1409, 884, 309, 13, 50514], 'temperature': 0.0, 'avg_logprob': -0.13156570272242768, 'compression_ratio': 1.6016949152542372, 'no_speech_prob': 0.003932688385248184}, {'id': 37, 'seek': 18704, 'start': 191.04, 'end': 194.04, 'text': \" But that's not it. These are all just features.\", 'tokens': [50564, 583, 300, 311, 406, 309, 13, 1981, 366, 439, 445, 4122, 13, 50714], 'temperature': 0.0, 'avg_logprob': -0.13156570272242768, 'compression_ratio': 1.6016949152542372, 'no_speech_prob': 0.003932688385248184}, {'id': 38, 'seek': 18704, 'start': 194.04, 'end': 197.04, 'text': \" Let's talk about the company itself.\", 'tokens': [50714, 961, 311, 751, 466, 264, 2237, 2564, 13, 50864], 'temperature': 0.0, 'avg_logprob': -0.13156570272242768, 'compression_ratio': 1.6016949152542372, 'no_speech_prob': 0.003932688385248184}, {'id': 39, 'seek': 18704, 'start': 197.04, 'end': 204.04, 'text': ' We as a company believe in striving ahead, believe in bringing in change for you.', 'tokens': [50864, 492, 382, 257, 2237, 1697, 294, 36582, 2286, 11, 1697, 294, 5062, 294, 1319, 337, 291, 13, 51214], 'temperature': 0.0, 'avg_logprob': -0.13156570272242768, 'compression_ratio': 1.6016949152542372, 'no_speech_prob': 0.003932688385248184}, {'id': 40, 'seek': 18704, 'start': 204.04, 'end': 210.04, 'text': ' We have Facebook groups, feedback forms, everything, links for which you will find down below.', 'tokens': [51214, 492, 362, 4384, 3935, 11, 5824, 6422, 11, 1203, 11, 6123, 337, 597, 291, 486, 915, 760, 2507, 13, 51514], 'temperature': 0.0, 'avg_logprob': -0.13156570272242768, 'compression_ratio': 1.6016949152542372, 'no_speech_prob': 0.003932688385248184}, {'id': 41, 'seek': 18704, 'start': 210.04, 'end': 213.04, 'text': ' But you can request for features. You can talk to the founders.', 'tokens': [51514, 583, 291, 393, 5308, 337, 4122, 13, 509, 393, 751, 281, 264, 25608, 13, 51664], 'temperature': 0.0, 'avg_logprob': -0.13156570272242768, 'compression_ratio': 1.6016949152542372, 'no_speech_prob': 0.003932688385248184}, {'id': 42, 'seek': 21304, 'start': 213.04, 'end': 219.04, 'text': ' And it has never happened that the team has just carelessly not seen your forms.', 'tokens': [50364, 400, 309, 575, 1128, 2011, 300, 264, 1469, 575, 445, 1127, 12048, 406, 1612, 428, 6422, 13, 50664], 'temperature': 0.0, 'avg_logprob': -0.10924902067079649, 'compression_ratio': 1.6379310344827587, 'no_speech_prob': 0.2917545735836029}, {'id': 43, 'seek': 21304, 'start': 219.04, 'end': 222.04, 'text': ' They always see your feedback forms.', 'tokens': [50664, 814, 1009, 536, 428, 5824, 6422, 13, 50814], 'temperature': 0.0, 'avg_logprob': -0.10924902067079649, 'compression_ratio': 1.6379310344827587, 'no_speech_prob': 0.2917545735836029}, {'id': 44, 'seek': 21304, 'start': 222.04, 'end': 227.04, 'text': ' They always want to know what more do you want and they implement it.', 'tokens': [50814, 814, 1009, 528, 281, 458, 437, 544, 360, 291, 528, 293, 436, 4445, 309, 13, 51064], 'temperature': 0.0, 'avg_logprob': -0.10924902067079649, 'compression_ratio': 1.6379310344827587, 'no_speech_prob': 0.2917545735836029}, {'id': 45, 'seek': 21304, 'start': 227.04, 'end': 237.04, 'text': ' Did you know we just implemented a new UI for the service, which is extremely modern and beautiful looking, even more so than it already was?', 'tokens': [51064, 2589, 291, 458, 321, 445, 12270, 257, 777, 15682, 337, 264, 2643, 11, 597, 307, 4664, 4363, 293, 2238, 1237, 11, 754, 544, 370, 813, 309, 1217, 390, 30, 51564], 'temperature': 0.0, 'avg_logprob': -0.10924902067079649, 'compression_ratio': 1.6379310344827587, 'no_speech_prob': 0.2917545735836029}, {'id': 46, 'seek': 21304, 'start': 237.04, 'end': 241.04, 'text': ' And the customers are happy. Everything is snappy.', 'tokens': [51564, 400, 264, 4581, 366, 2055, 13, 5471, 307, 14528, 7966, 13, 51764], 'temperature': 0.0, 'avg_logprob': -0.10924902067079649, 'compression_ratio': 1.6379310344827587, 'no_speech_prob': 0.2917545735836029}, {'id': 47, 'seek': 24104, 'start': 241.04, 'end': 242.04, 'text': \" And that's not it.\", 'tokens': [50364, 400, 300, 311, 406, 309, 13, 50414], 'temperature': 0.0, 'avg_logprob': -0.06893564890889288, 'compression_ratio': 1.6502242152466369, 'no_speech_prob': 0.02135293185710907}, {'id': 48, 'seek': 24104, 'start': 242.04, 'end': 247.04, 'text': ' We ensure that you get the best upload speeds possible.', 'tokens': [50414, 492, 5586, 300, 291, 483, 264, 1151, 6580, 16411, 1944, 13, 50664], 'temperature': 0.0, 'avg_logprob': -0.06893564890889288, 'compression_ratio': 1.6502242152466369, 'no_speech_prob': 0.02135293185710907}, {'id': 49, 'seek': 24104, 'start': 247.04, 'end': 252.04, 'text': ' And we also allow you to directly import your videos from other services.', 'tokens': [50664, 400, 321, 611, 2089, 291, 281, 3838, 974, 428, 2145, 490, 661, 3328, 13, 50914], 'temperature': 0.0, 'avg_logprob': -0.06893564890889288, 'compression_ratio': 1.6502242152466369, 'no_speech_prob': 0.02135293185710907}, {'id': 50, 'seek': 24104, 'start': 252.04, 'end': 254.04, 'text': ' And we do all the work.', 'tokens': [50914, 400, 321, 360, 439, 264, 589, 13, 51014], 'temperature': 0.0, 'avg_logprob': -0.06893564890889288, 'compression_ratio': 1.6502242152466369, 'no_speech_prob': 0.02135293185710907}, {'id': 51, 'seek': 24104, 'start': 254.04, 'end': 260.03999999999996, 'text': \" If you want to know more about it, there's a video in the iButton that you can check out for it.\", 'tokens': [51014, 759, 291, 528, 281, 458, 544, 466, 309, 11, 456, 311, 257, 960, 294, 264, 741, 7835, 1756, 300, 291, 393, 1520, 484, 337, 309, 13, 51314], 'temperature': 0.0, 'avg_logprob': -0.06893564890889288, 'compression_ratio': 1.6502242152466369, 'no_speech_prob': 0.02135293185710907}, {'id': 52, 'seek': 24104, 'start': 260.03999999999996, 'end': 261.03999999999996, 'text': \" That's right.\", 'tokens': [51314, 663, 311, 558, 13, 51364], 'temperature': 0.0, 'avg_logprob': -0.06893564890889288, 'compression_ratio': 1.6502242152466369, 'no_speech_prob': 0.02135293185710907}, {'id': 53, 'seek': 24104, 'start': 261.03999999999996, 'end': 268.03999999999996, 'text': ' And like I tell you in every video, we care about your business, about your content.', 'tokens': [51364, 400, 411, 286, 980, 291, 294, 633, 960, 11, 321, 1127, 466, 428, 1606, 11, 466, 428, 2701, 13, 51714], 'temperature': 0.0, 'avg_logprob': -0.06893564890889288, 'compression_ratio': 1.6502242152466369, 'no_speech_prob': 0.02135293185710907}, {'id': 54, 'seek': 26804, 'start': 268.04, 'end': 274.04, 'text': ' And that is why even the founders are available for you to give suggestions.', 'tokens': [50364, 400, 300, 307, 983, 754, 264, 25608, 366, 2435, 337, 291, 281, 976, 13396, 13, 50664], 'temperature': 0.0, 'avg_logprob': -0.05834111651858768, 'compression_ratio': 1.679144385026738, 'no_speech_prob': 0.06476303935050964}, {'id': 55, 'seek': 26804, 'start': 274.04, 'end': 286.04, 'text': ' Just imagine a company so down to earth, a company so caring that even the founder ensures that each and every customer of his is happy.', 'tokens': [50664, 1449, 3811, 257, 2237, 370, 760, 281, 4120, 11, 257, 2237, 370, 15365, 300, 754, 264, 14917, 28111, 300, 1184, 293, 633, 5474, 295, 702, 307, 2055, 13, 51264], 'temperature': 0.0, 'avg_logprob': -0.05834111651858768, 'compression_ratio': 1.679144385026738, 'no_speech_prob': 0.06476303935050964}, {'id': 56, 'seek': 26804, 'start': 286.04, 'end': 296.04, 'text': ' And that is something that we intend to keep on and going on for the rest of the life that there is.', 'tokens': [51264, 400, 300, 307, 746, 300, 321, 19759, 281, 1066, 322, 293, 516, 322, 337, 264, 1472, 295, 264, 993, 300, 456, 307, 13, 51764], 'temperature': 0.0, 'avg_logprob': -0.05834111651858768, 'compression_ratio': 1.679144385026738, 'no_speech_prob': 0.06476303935050964}, {'id': 57, 'seek': 29604, 'start': 296.04, 'end': 303.04, 'text': ' So, in this case, we want you to love Vadoo TV the way we do.', 'tokens': [50364, 407, 11, 294, 341, 1389, 11, 321, 528, 291, 281, 959, 691, 1573, 78, 3558, 264, 636, 321, 360, 13, 50714], 'temperature': 0.0, 'avg_logprob': -0.16593276753145106, 'compression_ratio': 1.5613207547169812, 'no_speech_prob': 0.1331431120634079}, {'id': 58, 'seek': 29604, 'start': 303.04, 'end': 308.04, 'text': \" And if you're into that kind of thing, what are you waiting for?\", 'tokens': [50714, 400, 498, 291, 434, 666, 300, 733, 295, 551, 11, 437, 366, 291, 3806, 337, 30, 50964], 'temperature': 0.0, 'avg_logprob': -0.16593276753145106, 'compression_ratio': 1.5613207547169812, 'no_speech_prob': 0.1331431120634079}, {'id': 59, 'seek': 29604, 'start': 308.04, 'end': 324.04, 'text': ' Just click on the link given down below and obviously subscribe to the channel because we will be bringing you a lot of these videos with comparisons, with guides and a lot of some tools to help you grow.', 'tokens': [50964, 1449, 2052, 322, 264, 2113, 2212, 760, 2507, 293, 2745, 3022, 281, 264, 2269, 570, 321, 486, 312, 5062, 291, 257, 688, 295, 613, 2145, 365, 33157, 11, 365, 17007, 293, 257, 688, 295, 512, 3873, 281, 854, 291, 1852, 13, 51764], 'temperature': 0.0, 'avg_logprob': -0.16593276753145106, 'compression_ratio': 1.5613207547169812, 'no_speech_prob': 0.1331431120634079}, {'id': 60, 'seek': 32404, 'start': 324.04, 'end': 326.04, 'text': \" That's all for today's video, guys.\", 'tokens': [50364, 663, 311, 439, 337, 965, 311, 960, 11, 1074, 13, 50464], 'temperature': 0.0, 'avg_logprob': -0.12174961783669212, 'compression_ratio': 1.2982456140350878, 'no_speech_prob': 0.045093733817338943}, {'id': 61, 'seek': 32404, 'start': 326.04, 'end': 331.04, 'text': ' Thank you for watching and make sure you subscribe to catch the next one.', 'tokens': [50464, 1044, 291, 337, 1976, 293, 652, 988, 291, 3022, 281, 3745, 264, 958, 472, 13, 50714], 'temperature': 0.0, 'avg_logprob': -0.12174961783669212, 'compression_ratio': 1.2982456140350878, 'no_speech_prob': 0.045093733817338943}, {'id': 62, 'seek': 32404, 'start': 331.04, 'end': 333.04, 'text': \" I'll see you in the next one. Bye bye.\", 'tokens': [50714, 286, 603, 536, 291, 294, 264, 958, 472, 13, 4621, 6543, 13, 50814], 'temperature': 0.0, 'avg_logprob': -0.12174961783669212, 'compression_ratio': 1.2982456140350878, 'no_speech_prob': 0.045093733817338943}]\n"
          ]
        }
      ],
      "source": [
        "print(segments)"
      ]
    },
    {
      "cell_type": "code",
      "execution_count": null,
      "metadata": {
        "id": "yycQsMF5hN2k"
      },
      "outputs": [],
      "source": [
        "extracted_data = [{'start': item['start'], 'end': item['end'], 'text': item['text']} for item in segments]"
      ]
    },
    {
      "cell_type": "code",
      "execution_count": null,
      "metadata": {
        "colab": {
          "base_uri": "https://localhost:8080/"
        },
        "id": "d2UIdBVoh2AL",
        "outputId": "75ff44e7-990a-4e16-ba98-a00356f2c8d0"
      },
      "outputs": [
        {
          "data": {
            "text/plain": [
              "[{'start': 0.0,\n",
              "  'end': 15.56,\n",
              "  'text': ' Hey guys, welcome to Vadoo TV and today we are talking about something very very important.'},\n",
              " {'start': 15.56, 'end': 18.2, 'text': ' We are talking about competition.'},\n",
              " {'start': 18.2,\n",
              "  'end': 25.240000000000002,\n",
              "  'text': ' Now as a content creator, marketer, you do have a lot of competition but so do we.'},\n",
              " {'start': 25.599999999999998,\n",
              "  'end': 32.839999999999996,\n",
              "  'text': ' One of our biggest competitors is Vimeo and today we are going to tell you why you should choose us instead.'},\n",
              " {'start': 32.839999999999996,\n",
              "  'end': 37.64,\n",
              "  'text': ' Now the comparison is going to be based on a budget of 20 dollars.'},\n",
              " {'start': 37.64,\n",
              "  'end': 48.84,\n",
              "  'text': ' Now I know for a lot of people 20 dollars may not be a lot but for a lot of the new content creators, marketers, entrepreneurs, it is a lot of money.'},\n",
              " {'start': 48.84,\n",
              "  'end': 54.239999999999995,\n",
              "  'text': \" And we want to ensure that we give you your money's total worth and then some.\"},\n",
              " {'start': 54.440000000000005,\n",
              "  'end': 55.440000000000005,\n",
              "  'text': \" That's right.\"},\n",
              " {'start': 55.440000000000005,\n",
              "  'end': 63.84,\n",
              "  'text': \" So today's comparison is going to be based on 20 dollars and what that gets you in Vadoo TV is 100 GB of storage space.\"},\n",
              " {'start': 63.84,\n",
              "  'end': 68.64,\n",
              "  'text': ' In comparison to that, you just get 20 GB per week on Vimeo.'},\n",
              " {'start': 68.64,\n",
              "  'end': 75.84,\n",
              "  'text': ' Also, we allow you to have three people in your team that can concurrently sign in.'},\n",
              " {'start': 75.84,\n",
              "  'end': 79.84,\n",
              "  'text': ' Compared to that, Vimeo also does allow you.'},\n",
              " {'start': 79.84,\n",
              "  'end': 83.24000000000001,\n",
              "  'text': ' But that is where the similarities end.'},\n",
              " {'start': 83.44, 'end': 84.44, 'text': \" That's right.\"},\n",
              " {'start': 84.44,\n",
              "  'end': 86.64,\n",
              "  'text': ' That is where the similarities end.'},\n",
              " {'start': 86.64,\n",
              "  'end': 93.64,\n",
              "  'text': ' What we offer you above this is firstly, you can have CTA and lead generation.'},\n",
              " {'start': 93.64,\n",
              "  'end': 95.83999999999999,\n",
              "  'text': ' You can have unbranded videos.'},\n",
              " {'start': 95.83999999999999,\n",
              "  'end': 103.24,\n",
              "  'text': ' Now unbranded videos means clear cut videos, no watermark here, no advertisement there, nothing like that.'},\n",
              " {'start': 103.24,\n",
              "  'end': 107.03999999999999,\n",
              "  'text': \" It's your video, your content and your landing pages.\"},\n",
              " {'start': 107.24000000000001,\n",
              "  'end': 119.24000000000001,\n",
              "  'text': ' We also allow you to customize your video player, customize your landing page, add affiliate links, add various links, generate lead from the same page.'},\n",
              " {'start': 119.24000000000001,\n",
              "  'end': 120.24000000000001,\n",
              "  'text': \" But that's not it.\"},\n",
              " {'start': 120.24000000000001,\n",
              "  'end': 129.24,\n",
              "  'text': ' We also allow you something known as video requests, wherein you can request your customers to send in their videos, which can be displayed there.'},\n",
              " {'start': 129.24, 'end': 130.24, 'text': \" But that's not all.\"},\n",
              " {'start': 130.24,\n",
              "  'end': 133.64000000000001,\n",
              "  'text': ' We also allow you for a video pop-up feature.'},\n",
              " {'start': 133.64,\n",
              "  'end': 139.64,\n",
              "  'text': ' Now, we have seen a lot of services that have these little chatbot icons and you chat with an AI.'},\n",
              " {'start': 139.64,\n",
              "  'end': 149.04,\n",
              "  'text': ' But what if the customer types something or needs to know about something and you can directly show them a video in that little chat box?'},\n",
              " {'start': 149.04, 'end': 151.04, 'text': \" That's what I'm talking about.\"},\n",
              " {'start': 151.04,\n",
              "  'end': 154.44,\n",
              "  'text': ' Change, differentiation and uniqueness.'},\n",
              " {'start': 154.44,\n",
              "  'end': 156.64,\n",
              "  'text': ' We want to provide you with all of that.'},\n",
              " {'start': 156.64,\n",
              "  'end': 159.04,\n",
              "  'text': \" That's not all. We also want to keep you safe.\"},\n",
              " {'start': 159.04,\n",
              "  'end': 166.04,\n",
              "  'text': ' So within our $19 service also, you have the encryption ability.'},\n",
              " {'start': 166.04,\n",
              "  'end': 172.04,\n",
              "  'text': \" That's right. Your premium videos can be encrypted, password protected.\"},\n",
              " {'start': 172.04,\n",
              "  'end': 176.23999999999998,\n",
              "  'text': \" That's right. We want to offer you whatever is the best.\"},\n",
              " {'start': 176.23999999999998,\n",
              "  'end': 183.84,\n",
              "  'text': \" So, I mean, if till now you haven't clicked on the link below and gone to Vado TV, what are you even doing?\"},\n",
              " {'start': 183.84, 'end': 184.64, 'text': ' Right?'},\n",
              " {'start': 184.64, 'end': 187.04, 'text': ' Because sign up first.'},\n",
              " {'start': 187.04,\n",
              "  'end': 190.04,\n",
              "  'text': ' Well, your competition has already started doing it.'},\n",
              " {'start': 191.04,\n",
              "  'end': 194.04,\n",
              "  'text': \" But that's not it. These are all just features.\"},\n",
              " {'start': 194.04,\n",
              "  'end': 197.04,\n",
              "  'text': \" Let's talk about the company itself.\"},\n",
              " {'start': 197.04,\n",
              "  'end': 204.04,\n",
              "  'text': ' We as a company believe in striving ahead, believe in bringing in change for you.'},\n",
              " {'start': 204.04,\n",
              "  'end': 210.04,\n",
              "  'text': ' We have Facebook groups, feedback forms, everything, links for which you will find down below.'},\n",
              " {'start': 210.04,\n",
              "  'end': 213.04,\n",
              "  'text': ' But you can request for features. You can talk to the founders.'},\n",
              " {'start': 213.04,\n",
              "  'end': 219.04,\n",
              "  'text': ' And it has never happened that the team has just carelessly not seen your forms.'},\n",
              " {'start': 219.04,\n",
              "  'end': 222.04,\n",
              "  'text': ' They always see your feedback forms.'},\n",
              " {'start': 222.04,\n",
              "  'end': 227.04,\n",
              "  'text': ' They always want to know what more do you want and they implement it.'},\n",
              " {'start': 227.04,\n",
              "  'end': 237.04,\n",
              "  'text': ' Did you know we just implemented a new UI for the service, which is extremely modern and beautiful looking, even more so than it already was?'},\n",
              " {'start': 237.04,\n",
              "  'end': 241.04,\n",
              "  'text': ' And the customers are happy. Everything is snappy.'},\n",
              " {'start': 241.04, 'end': 242.04, 'text': \" And that's not it.\"},\n",
              " {'start': 242.04,\n",
              "  'end': 247.04,\n",
              "  'text': ' We ensure that you get the best upload speeds possible.'},\n",
              " {'start': 247.04,\n",
              "  'end': 252.04,\n",
              "  'text': ' And we also allow you to directly import your videos from other services.'},\n",
              " {'start': 252.04, 'end': 254.04, 'text': ' And we do all the work.'},\n",
              " {'start': 254.04,\n",
              "  'end': 260.03999999999996,\n",
              "  'text': \" If you want to know more about it, there's a video in the iButton that you can check out for it.\"},\n",
              " {'start': 260.03999999999996,\n",
              "  'end': 261.03999999999996,\n",
              "  'text': \" That's right.\"},\n",
              " {'start': 261.03999999999996,\n",
              "  'end': 268.03999999999996,\n",
              "  'text': ' And like I tell you in every video, we care about your business, about your content.'},\n",
              " {'start': 268.04,\n",
              "  'end': 274.04,\n",
              "  'text': ' And that is why even the founders are available for you to give suggestions.'},\n",
              " {'start': 274.04,\n",
              "  'end': 286.04,\n",
              "  'text': ' Just imagine a company so down to earth, a company so caring that even the founder ensures that each and every customer of his is happy.'},\n",
              " {'start': 286.04,\n",
              "  'end': 296.04,\n",
              "  'text': ' And that is something that we intend to keep on and going on for the rest of the life that there is.'},\n",
              " {'start': 296.04,\n",
              "  'end': 303.04,\n",
              "  'text': ' So, in this case, we want you to love Vadoo TV the way we do.'},\n",
              " {'start': 303.04,\n",
              "  'end': 308.04,\n",
              "  'text': \" And if you're into that kind of thing, what are you waiting for?\"},\n",
              " {'start': 308.04,\n",
              "  'end': 324.04,\n",
              "  'text': ' Just click on the link given down below and obviously subscribe to the channel because we will be bringing you a lot of these videos with comparisons, with guides and a lot of some tools to help you grow.'},\n",
              " {'start': 324.04,\n",
              "  'end': 326.04,\n",
              "  'text': \" That's all for today's video, guys.\"},\n",
              " {'start': 326.04,\n",
              "  'end': 331.04,\n",
              "  'text': ' Thank you for watching and make sure you subscribe to catch the next one.'},\n",
              " {'start': 331.04,\n",
              "  'end': 333.04,\n",
              "  'text': \" I'll see you in the next one. Bye bye.\"}]"
            ]
          },
          "execution_count": 12,
          "metadata": {},
          "output_type": "execute_result"
        }
      ],
      "source": [
        "extracted_data"
      ]
    },
    {
      "cell_type": "code",
      "source": [
        "data = [x[\"text\"] for x in extracted_data]"
      ],
      "metadata": {
        "id": "7ERtkyPakMLl"
      },
      "execution_count": null,
      "outputs": []
    },
    {
      "cell_type": "code",
      "execution_count": null,
      "metadata": {
        "id": "hNpIKgZZh5hU"
      },
      "outputs": [],
      "source": [
        "prompt = \"\"\"This is a transcript from a shorts video. Each sublist represents a segment of the conversation. Your task is to identify a keyword from each sublist that can be used to search for relevant b-roll footage. B-roll footage should complement the conversation topics and should be identified such that it can give relevant results when searched in pexels api. Please provide one keyword per sublist. Need output with keyword and list index. Strictly give json\\n\\n**Input**\\n\\n\"\"\"+str(data)+\"\"\"\\n\\n**Output format**\\n\\n[{\"k\": keyword1, \"i\":0},{\"k\":keyword2, \"i\":1}]\"\"\""
      ]
    },
    {
      "cell_type": "code",
      "source": [
        "print(prompt)"
      ],
      "metadata": {
        "colab": {
          "base_uri": "https://localhost:8080/"
        },
        "id": "B1e0pDK_lNvT",
        "outputId": "6e0e9668-19d4-4721-bcea-10913efa6b29"
      },
      "execution_count": null,
      "outputs": [
        {
          "output_type": "stream",
          "name": "stdout",
          "text": [
            "This is a transcript from a shorts video. Each sublist represents a segment of the conversation. Your task is to identify a keyword from each sublist that can be used to search for relevant b-roll footage. B-roll footage should complement the conversation topics and should be identified such that it can give relevant results when searched in pexels api. Please provide one keyword per sublist. Need output with keyword and list index. Strictly give json\n",
            "\n",
            "**Input**\n",
            "\n",
            "[' Hey guys, welcome to Vadoo TV and today we are talking about something very very important.', ' We are talking about competition.', ' Now as a content creator, marketer, you do have a lot of competition but so do we.', ' One of our biggest competitors is Vimeo and today we are going to tell you why you should choose us instead.', ' Now the comparison is going to be based on a budget of 20 dollars.', ' Now I know for a lot of people 20 dollars may not be a lot but for a lot of the new content creators, marketers, entrepreneurs, it is a lot of money.', \" And we want to ensure that we give you your money's total worth and then some.\", \" That's right.\", \" So today's comparison is going to be based on 20 dollars and what that gets you in Vadoo TV is 100 GB of storage space.\", ' In comparison to that, you just get 20 GB per week on Vimeo.', ' Also, we allow you to have three people in your team that can concurrently sign in.', ' Compared to that, Vimeo also does allow you.', ' But that is where the similarities end.', \" That's right.\", ' That is where the similarities end.', ' What we offer you above this is firstly, you can have CTA and lead generation.', ' You can have unbranded videos.', ' Now unbranded videos means clear cut videos, no watermark here, no advertisement there, nothing like that.', \" It's your video, your content and your landing pages.\", ' We also allow you to customize your video player, customize your landing page, add affiliate links, add various links, generate lead from the same page.', \" But that's not it.\", ' We also allow you something known as video requests, wherein you can request your customers to send in their videos, which can be displayed there.', \" But that's not all.\", ' We also allow you for a video pop-up feature.', ' Now, we have seen a lot of services that have these little chatbot icons and you chat with an AI.', ' But what if the customer types something or needs to know about something and you can directly show them a video in that little chat box?', \" That's what I'm talking about.\", ' Change, differentiation and uniqueness.', ' We want to provide you with all of that.', \" That's not all. We also want to keep you safe.\", ' So within our $19 service also, you have the encryption ability.', \" That's right. Your premium videos can be encrypted, password protected.\", \" That's right. We want to offer you whatever is the best.\", \" So, I mean, if till now you haven't clicked on the link below and gone to Vado TV, what are you even doing?\", ' Right?', ' Because sign up first.', ' Well, your competition has already started doing it.', \" But that's not it. These are all just features.\", \" Let's talk about the company itself.\", ' We as a company believe in striving ahead, believe in bringing in change for you.', ' We have Facebook groups, feedback forms, everything, links for which you will find down below.', ' But you can request for features. You can talk to the founders.', ' And it has never happened that the team has just carelessly not seen your forms.', ' They always see your feedback forms.', ' They always want to know what more do you want and they implement it.', ' Did you know we just implemented a new UI for the service, which is extremely modern and beautiful looking, even more so than it already was?', ' And the customers are happy. Everything is snappy.', \" And that's not it.\", ' We ensure that you get the best upload speeds possible.', ' And we also allow you to directly import your videos from other services.', ' And we do all the work.', \" If you want to know more about it, there's a video in the iButton that you can check out for it.\", \" That's right.\", ' And like I tell you in every video, we care about your business, about your content.', ' And that is why even the founders are available for you to give suggestions.', ' Just imagine a company so down to earth, a company so caring that even the founder ensures that each and every customer of his is happy.', ' And that is something that we intend to keep on and going on for the rest of the life that there is.', ' So, in this case, we want you to love Vadoo TV the way we do.', \" And if you're into that kind of thing, what are you waiting for?\", ' Just click on the link given down below and obviously subscribe to the channel because we will be bringing you a lot of these videos with comparisons, with guides and a lot of some tools to help you grow.', \" That's all for today's video, guys.\", ' Thank you for watching and make sure you subscribe to catch the next one.', \" I'll see you in the next one. Bye bye.\"]\n",
            "\n",
            "**Output format**\n",
            "\n",
            "[{\"k\": keyword1, \"i\":0},{\"k\":keyword2, \"i\":1}]\n"
          ]
        }
      ]
    },
    {
      "cell_type": "code",
      "source": [
        "!pip install openai"
      ],
      "metadata": {
        "colab": {
          "base_uri": "https://localhost:8080/"
        },
        "id": "rKJ9PxdWkukz",
        "outputId": "16c45a4d-f640-452a-a0a4-68b261b0c0e9"
      },
      "execution_count": null,
      "outputs": [
        {
          "output_type": "stream",
          "name": "stdout",
          "text": [
            "Collecting openai\n",
            "  Downloading openai-1.27.0-py3-none-any.whl (314 kB)\n",
            "\u001b[?25l     \u001b[90m━━━━━━━━━━━━━━━━━━━━━━━━━━━━━━━━━━━━━━━━\u001b[0m \u001b[32m0.0/314.1 kB\u001b[0m \u001b[31m?\u001b[0m eta \u001b[36m-:--:--\u001b[0m\r\u001b[2K     \u001b[91m━━━━━━━━━━━━━━━━━━━━━━━━━━━━━━━━━━━━━━━\u001b[0m\u001b[90m╺\u001b[0m \u001b[32m307.2/314.1 kB\u001b[0m \u001b[31m9.4 MB/s\u001b[0m eta \u001b[36m0:00:01\u001b[0m\r\u001b[2K     \u001b[90m━━━━━━━━━━━━━━━━━━━━━━━━━━━━━━━━━━━━━━━━\u001b[0m \u001b[32m314.1/314.1 kB\u001b[0m \u001b[31m7.5 MB/s\u001b[0m eta \u001b[36m0:00:00\u001b[0m\n",
            "\u001b[?25hRequirement already satisfied: anyio<5,>=3.5.0 in /usr/local/lib/python3.10/dist-packages (from openai) (3.7.1)\n",
            "Requirement already satisfied: distro<2,>=1.7.0 in /usr/lib/python3/dist-packages (from openai) (1.7.0)\n",
            "Collecting httpx<1,>=0.23.0 (from openai)\n",
            "  Downloading httpx-0.27.0-py3-none-any.whl (75 kB)\n",
            "\u001b[2K     \u001b[90m━━━━━━━━━━━━━━━━━━━━━━━━━━━━━━━━━━━━━━━━\u001b[0m \u001b[32m75.6/75.6 kB\u001b[0m \u001b[31m9.1 MB/s\u001b[0m eta \u001b[36m0:00:00\u001b[0m\n",
            "\u001b[?25hRequirement already satisfied: pydantic<3,>=1.9.0 in /usr/local/lib/python3.10/dist-packages (from openai) (2.7.1)\n",
            "Requirement already satisfied: sniffio in /usr/local/lib/python3.10/dist-packages (from openai) (1.3.1)\n",
            "Requirement already satisfied: tqdm>4 in /usr/local/lib/python3.10/dist-packages (from openai) (4.66.4)\n",
            "Requirement already satisfied: typing-extensions<5,>=4.7 in /usr/local/lib/python3.10/dist-packages (from openai) (4.11.0)\n",
            "Requirement already satisfied: idna>=2.8 in /usr/local/lib/python3.10/dist-packages (from anyio<5,>=3.5.0->openai) (3.7)\n",
            "Requirement already satisfied: exceptiongroup in /usr/local/lib/python3.10/dist-packages (from anyio<5,>=3.5.0->openai) (1.2.1)\n",
            "Requirement already satisfied: certifi in /usr/local/lib/python3.10/dist-packages (from httpx<1,>=0.23.0->openai) (2024.2.2)\n",
            "Collecting httpcore==1.* (from httpx<1,>=0.23.0->openai)\n",
            "  Downloading httpcore-1.0.5-py3-none-any.whl (77 kB)\n",
            "\u001b[2K     \u001b[90m━━━━━━━━━━━━━━━━━━━━━━━━━━━━━━━━━━━━━━━━\u001b[0m \u001b[32m77.9/77.9 kB\u001b[0m \u001b[31m7.4 MB/s\u001b[0m eta \u001b[36m0:00:00\u001b[0m\n",
            "\u001b[?25hCollecting h11<0.15,>=0.13 (from httpcore==1.*->httpx<1,>=0.23.0->openai)\n",
            "  Downloading h11-0.14.0-py3-none-any.whl (58 kB)\n",
            "\u001b[2K     \u001b[90m━━━━━━━━━━━━━━━━━━━━━━━━━━━━━━━━━━━━━━━━\u001b[0m \u001b[32m58.3/58.3 kB\u001b[0m \u001b[31m8.5 MB/s\u001b[0m eta \u001b[36m0:00:00\u001b[0m\n",
            "\u001b[?25hRequirement already satisfied: annotated-types>=0.4.0 in /usr/local/lib/python3.10/dist-packages (from pydantic<3,>=1.9.0->openai) (0.6.0)\n",
            "Requirement already satisfied: pydantic-core==2.18.2 in /usr/local/lib/python3.10/dist-packages (from pydantic<3,>=1.9.0->openai) (2.18.2)\n",
            "Installing collected packages: h11, httpcore, httpx, openai\n",
            "Successfully installed h11-0.14.0 httpcore-1.0.5 httpx-0.27.0 openai-1.27.0\n"
          ]
        }
      ]
    },
    {
      "cell_type": "code",
      "source": [
        "from openai import OpenAI\n",
        "\n",
        "OPENAI_API_KEY = \"api-key\"\n",
        "\n",
        "client = OpenAI(\n",
        "        api_key=OPENAI_API_KEY,\n",
        "    )\n",
        "chat_completion = client.chat.completions.create(\n",
        "       messages=[\n",
        "       {\n",
        "           \"role\": \"user\",\n",
        "           \"content\": prompt,\n",
        "       }\n",
        "      ],\n",
        "      model=\"gpt-4-turbo\",\n",
        "    )\n",
        "broll_data = chat_completion.choices[0].message.content"
      ],
      "metadata": {
        "id": "Jp5RO4EKkXPL"
      },
      "execution_count": null,
      "outputs": []
    },
    {
      "cell_type": "code",
      "source": [
        "import json\n",
        "broll_data = broll_data.split('```json')[1].split('```')[0].replace('\\n', '')\n",
        "broll_data = json.loads(broll_data)\n",
        "print(broll_data)"
      ],
      "metadata": {
        "colab": {
          "base_uri": "https://localhost:8080/"
        },
        "id": "t3DdqvljkYv7",
        "outputId": "720c98b7-ea60-40c9-85ba-fa77e2ca91da"
      },
      "execution_count": null,
      "outputs": [
        {
          "output_type": "stream",
          "name": "stdout",
          "text": [
            "[{'k': 'introduction', 'i': 0}, {'k': 'competition', 'i': 1}, {'k': 'content creator', 'i': 2}, {'k': 'Vimeo', 'i': 3}, {'k': 'budget', 'i': 4}, {'k': 'money', 'i': 5}, {'k': 'value', 'i': 6}, {'k': 'comparison', 'i': 7}, {'k': 'storage space', 'i': 8}, {'k': 'storage', 'i': 9}, {'k': 'teamwork', 'i': 10}, {'k': 'Vimeo', 'i': 11}, {'k': 'similarities', 'i': 12}, {'k': 'similarities', 'i': 13}, {'k': 'similarities', 'i': 14}, {'k': 'lead generation', 'i': 15}, {'k': 'unbranded videos', 'i': 16}, {'k': 'video marketing', 'i': 17}, {'k': 'customization', 'i': 18}, {'k': 'options', 'i': 19}, {'k': 'video request', 'i': 20}, {'k': 'features', 'i': 21}, {'k': 'video pop-up', 'i': 22}, {'k': 'AI chatbot', 'i': 23}, {'k': 'video response', 'i': 24}, {'k': 'uniqueness', 'i': 25}, {'k': 'safety', 'i': 26}, {'k': 'encryption', 'i': 27}, {'k': 'security', 'i': 28}, {'k': 'decision making', 'i': 29}, {'k': 'signup', 'i': 30}, {'k': 'competition', 'i': 31}, {'k': 'features', 'i': 32}, {'k': 'company culture', 'i': 33}, {'k': 'feedback', 'i': 34}, {'k': 'customer interaction', 'i': 35}, {'k': 'feedback', 'i': 36}, {'k': 'feedback', 'i': 37}, {'k': 'survey', 'i': 38}, {'k': 'user interface', 'i': 39}, {'k': 'customer satisfaction', 'i': 40}, {'k': 'upload speeds', 'i': 41}, {'k': 'video import', 'i': 42}, {'k': 'import', 'i': 43}, {'k': 'customer service', 'i': 44}, {'k': 'customer care', 'i': 45}, {'k': 'company values', 'i': 46}, {'k': 'loyalty', 'i': 47}, {'k': 'subscription', 'i': 48}, {'k': 'subscribe', 'i': 49}, {'k': 'conclusion', 'i': 50}, {'k': 'thank you', 'i': 51}, {'k': 'goodbye', 'i': 52}]\n"
          ]
        }
      ]
    },
    {
      "cell_type": "code",
      "source": [
        "import requests\n",
        "\n",
        "PEXELS_API_KEY = \"api-key\"\n",
        "\n",
        "def fetch_pexels_video(keyword, orientation=\"landscape\"):\n",
        "    url = f\"https://api.pexels.com/videos/search?query={keyword}&orientation={orientation}&size=medium\"\n",
        "    headers = {\n",
        "        \"Authorization\": PEXELS_API_KEY\n",
        "    }\n",
        "    response = requests.get(url, headers=headers)\n",
        "    data = response.json()\n",
        "\n",
        "    if data['total_results'] > 0:\n",
        "        video_info = data['videos'][0]\n",
        "        video_url = video_info['video_files'][0]['link']\n",
        "        thumbnail_url = video_info['image']\n",
        "        video_url = data['videos'][0]['video_files'][0]['link']\n",
        "        return {'video': video_url, 'thumbnail': thumbnail_url}\n",
        "    else:\n",
        "        return \"Invalid keyword\""
      ],
      "metadata": {
        "id": "IA_3P-U8lK8I"
      },
      "execution_count": null,
      "outputs": []
    },
    {
      "cell_type": "code",
      "source": [
        "import random\n",
        "num_to_select = int(len(broll_data) * 0.3)\n",
        "enumerated_list = list(enumerate(broll_data))\n",
        "selected_with_indices = random.sample(enumerated_list, num_to_select)\n",
        "selected_elements = [elem for index, elem in selected_with_indices]\n",
        "selected_indices = [index for index, elem in selected_with_indices]"
      ],
      "metadata": {
        "id": "S780qgDtmS5K"
      },
      "execution_count": null,
      "outputs": []
    },
    {
      "cell_type": "code",
      "source": [
        "for x in selected_indices:\n",
        "  element = broll_data[x]\n",
        "  extracted_data[x][\"video\"] = fetch_pexels_video(element[\"k\"])"
      ],
      "metadata": {
        "id": "h9dSvUi3mWsm"
      },
      "execution_count": null,
      "outputs": []
    },
    {
      "cell_type": "markdown",
      "source": [
        "Now stitch the videos to get the final video"
      ],
      "metadata": {
        "id": "ykE4Sg1Z3zHf"
      }
    }
  ],
  "metadata": {
    "accelerator": "GPU",
    "colab": {
      "gpuType": "T4",
      "provenance": [],
      "authorship_tag": "ABX9TyP6H89zE6heRiD4zgOEJ6RR",
      "include_colab_link": true
    },
    "kernelspec": {
      "display_name": "Python 3",
      "name": "python3"
    },
    "language_info": {
      "name": "python"
    }
  },
  "nbformat": 4,
  "nbformat_minor": 0
}