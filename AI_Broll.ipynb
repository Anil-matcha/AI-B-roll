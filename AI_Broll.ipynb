{
  "cells": [
    {
      "cell_type": "markdown",
      "metadata": {
        "id": "view-in-github",
        "colab_type": "text"
      },
      "source": [
        "<a href=\"https://colab.research.google.com/github/Anil-matcha/AI-B-roll/blob/main/AI_Broll.ipynb\" target=\"_parent\"><img src=\"https://colab.research.google.com/assets/colab-badge.svg\" alt=\"Open In Colab\"/></a>"
      ]
    },
    {
      "cell_type": "markdown",
      "source": [
        "### Install dependencies"
      ],
      "metadata": {
        "id": "Bl3m7xb4OyjY"
      }
    },
    {
      "cell_type": "code",
      "execution_count": null,
      "metadata": {
        "id": "LELlAM5Qc6W_"
      },
      "outputs": [],
      "source": [
        "!pip install git+https://github.com/openai/whisper.git\n",
        "!pip install pytube\n",
        "!pip install openai\n",
        "!pip install moviepy"
      ]
    },
    {
      "cell_type": "markdown",
      "source": [
        "### Download the input video from youtube"
      ],
      "metadata": {
        "id": "hTcbXWhwO893"
      }
    },
    {
      "cell_type": "code",
      "execution_count": null,
      "metadata": {
        "colab": {
          "base_uri": "https://localhost:8080/"
        },
        "id": "Sgr7RYMKkncc",
        "outputId": "50f0b81d-9aeb-4470-a029-58c60fabb70e"
      },
      "outputs": [
        {
          "name": "stdout",
          "output_type": "stream",
          "text": [
            "Downloaded and renamed to: ./video.mp4\n"
          ]
        }
      ],
      "source": [
        "from pytube import YouTube\n",
        "import os\n",
        "\n",
        "# Function to download a YouTube video\n",
        "def download_youtube_video(url, output_path='.', filename=None):\n",
        "    try:\n",
        "        # Create a YouTube object\n",
        "        yt = YouTube(url)\n",
        "\n",
        "        # Get the highest resolution stream available\n",
        "        video_stream = yt.streams.get_highest_resolution()\n",
        "\n",
        "        # Download the video with the specified filename\n",
        "        downloaded_file_path = video_stream.download(output_path=output_path, filename=filename)\n",
        "\n",
        "        # If a filename is specified, rename the file\n",
        "        if filename:\n",
        "            base, ext = os.path.splitext(downloaded_file_path)\n",
        "            new_file_path = os.path.join(output_path, f\"{filename}\")\n",
        "            os.rename(downloaded_file_path, new_file_path)\n",
        "            print(f\"Downloaded and renamed to: {new_file_path}\")\n",
        "        else:\n",
        "            print(f\"Downloaded: {downloaded_file_path}\")\n",
        "\n",
        "    except Exception as e:\n",
        "        print(f\"An error occurred: {e}\")\n",
        "\n",
        "# Example usage\n",
        "if __name__ == \"__main__\":\n",
        "    # URL of the YouTube video to be downloaded\n",
        "    video_url = 'https://www.youtube.com/watch?v=8ZyShHwF_g0'\n",
        "\n",
        "    # Output path where the video will be saved\n",
        "    output_path = '.'\n",
        "\n",
        "    # Download the video\n",
        "    download_youtube_video(video_url, output_path, filename=\"video.mp4\")"
      ]
    },
    {
      "cell_type": "markdown",
      "source": [
        "### Extract audio from video with ffmpeg"
      ],
      "metadata": {
        "id": "sZOoycFKPCFz"
      }
    },
    {
      "cell_type": "code",
      "execution_count": null,
      "metadata": {
        "id": "MFfpIZwle9cn"
      },
      "outputs": [],
      "source": [
        "!ffmpeg -i video.mp4 -ab 160k -ac 2 -ar 44100 -vn audio.wav"
      ]
    },
    {
      "cell_type": "markdown",
      "source": [
        "### Generate subtiles for the audio using whisper"
      ],
      "metadata": {
        "id": "uNmwdwaPPG_j"
      }
    },
    {
      "cell_type": "code",
      "execution_count": null,
      "metadata": {
        "colab": {
          "base_uri": "https://localhost:8080/"
        },
        "id": "db21samCfLDg",
        "outputId": "18cc7265-90ad-447b-e216-a4ab48941c12"
      },
      "outputs": [
        {
          "name": "stderr",
          "output_type": "stream",
          "text": [
            "100%|██████████████████████████████████████| 1.42G/1.42G [00:14<00:00, 106MiB/s]\n"
          ]
        }
      ],
      "source": [
        "import whisper\n",
        "\n",
        "# Load the model\n",
        "model = whisper.load_model(\"medium\")\n",
        "result = model.transcribe(\"audio.wav\")"
      ]
    },
    {
      "cell_type": "markdown",
      "source": [
        "### Split the subtitles into groups of length 20 (For usage in next step)"
      ],
      "metadata": {
        "id": "pogq_ThKPMPB"
      }
    },
    {
      "cell_type": "code",
      "execution_count": null,
      "metadata": {
        "id": "VrCJaSAZfgr1"
      },
      "outputs": [],
      "source": [
        "segments = result[\"segments\"]\n",
        "extracted_data = [{'start': item['start'], 'end': item['end'], 'text': item['text']} for item in segments]\n",
        "data = [x[\"text\"] for x in extracted_data]\n",
        "\n",
        "def split_array(arr, max_size=20):\n",
        "    # List to store the split arrays\n",
        "    result = []\n",
        "\n",
        "    # Iterate over the array in chunks of size max_size\n",
        "    for i in range(0, len(arr), max_size):\n",
        "        result.append(arr[i:i + max_size])\n",
        "\n",
        "    return result\n",
        "\n",
        "# Example usage\n",
        "my_array = list(range(100))  # Example array with 100 elements\n",
        "split_arrays = split_array(data, max_size=20)"
      ]
    },
    {
      "cell_type": "markdown",
      "source": [
        "### Generate keywords for sentences in subtitles using Openai"
      ],
      "metadata": {
        "id": "NCeOWR9FPV_s"
      }
    },
    {
      "cell_type": "code",
      "execution_count": null,
      "metadata": {
        "id": "Jp5RO4EKkXPL"
      },
      "outputs": [],
      "source": [
        "from openai import OpenAI\n",
        "import json\n",
        "\n",
        "OPENAI_API_KEY = \"openai-api-key\"\n",
        "broll_info = []\n",
        "os.environ[\"OPENAI_API_KEY\"] = OPENAI_API_KEY\n",
        "client = OpenAI(\n",
        "        api_key=OPENAI_API_KEY,\n",
        "    )\n",
        "for i, x in enumerate(split_arrays):\n",
        "  prompt = \"\"\"This is a transcript from a shorts video with 20 sublists. Each sublist represents a segment of the conversation. Your task is to identify a keyword from each sublist that can be used to search for relevant b-roll footage. B-roll footage should complement the conversation topics and should be identified such that it can give relevant results when searched in pexels api. Please provide one keyword per sublist. Never skip any sublist and always give in order i.e from 0 to 19. Need output with keyword and list index. Strictly give json\\n\\n**Input**\\n\\n\"\"\"+str(x)+\"\"\"\\n\\n**Output format**\\n\\n[{\"k\": keyword1, \"i\":0},{\"k\":keyword2, \"i\":1}]\"\"\"\n",
        "  chat_completion = client.chat.completions.create(\n",
        "        messages=[\n",
        "        {\n",
        "            \"role\": \"user\",\n",
        "            \"content\": prompt,\n",
        "        }\n",
        "        ],\n",
        "        model=\"gpt-4o\",\n",
        "      )\n",
        "  broll_data = chat_completion.choices[0].message.content\n",
        "  print(\"Data\", broll_data)\n",
        "  try:\n",
        "    broll_data = json.loads(broll_data)\n",
        "  except:\n",
        "    broll_data = broll_data.split('```json')[1].split('```')[0].replace('\\n', '')\n",
        "    broll_data = json.loads(broll_data)\n",
        "  broll_data = [{\"k\":x[\"k\"], \"i\":20*i+x[\"i\"]} for x in broll_data]\n",
        "  broll_info.extend(broll_data)"
      ]
    },
    {
      "cell_type": "markdown",
      "source": [
        "### Function to fetch pexels videos for keywords"
      ],
      "metadata": {
        "id": "DHR8uPRwPlqs"
      }
    },
    {
      "cell_type": "code",
      "execution_count": null,
      "metadata": {
        "id": "IA_3P-U8lK8I"
      },
      "outputs": [],
      "source": [
        "import requests\n",
        "\n",
        "PEXELS_API_KEY = \"pexels-api-key\"\n",
        "\n",
        "def fetch_pexels_video(keyword, orientation=\"landscape\"):\n",
        "    url = f\"https://api.pexels.com/videos/search?query={keyword}&orientation={orientation}&size=medium\"\n",
        "    headers = {\n",
        "        \"Authorization\": PEXELS_API_KEY\n",
        "    }\n",
        "    response = requests.get(url, headers=headers)\n",
        "    data = response.json()\n",
        "\n",
        "    if data['total_results'] > 0:\n",
        "        video_info = data['videos'][0]\n",
        "        video_url = video_info['video_files'][0]['link']\n",
        "        thumbnail_url = video_info['image']\n",
        "        video_url = data['videos'][0]['video_files'][0]['link']\n",
        "        return {'video': video_url, 'thumbnail': thumbnail_url}\n",
        "    else:\n",
        "        return \"Invalid keyword\""
      ]
    },
    {
      "cell_type": "markdown",
      "source": [
        "### Randomly select 50% of keywords and fetch pexels video url for them"
      ],
      "metadata": {
        "id": "KzrbzzpbPqtD"
      }
    },
    {
      "cell_type": "code",
      "execution_count": 87,
      "metadata": {
        "id": "S780qgDtmS5K"
      },
      "outputs": [],
      "source": [
        "import random\n",
        "num_to_select = int(len(broll_info) * 0.5)\n",
        "enumerated_list = list(enumerate(broll_info))\n",
        "selected_with_indices = random.sample(enumerated_list, num_to_select)\n",
        "selected_elements = [elem for index, elem in selected_with_indices]\n",
        "selected_indices = [index for index, elem in selected_with_indices]\n",
        "for x in selected_indices:\n",
        "  element = broll_info[x]\n",
        "  extracted_data[x][\"video\"] = fetch_pexels_video(element[\"k\"])"
      ]
    },
    {
      "cell_type": "markdown",
      "source": [
        "### Download pexels video and stitch the final video using original and b-roll pexels videos"
      ],
      "metadata": {
        "id": "aJT5vi2fP-Wo"
      }
    },
    {
      "cell_type": "code",
      "execution_count": null,
      "metadata": {
        "id": "2jmT6zesqSS4"
      },
      "outputs": [],
      "source": [
        "import os\n",
        "import requests\n",
        "from moviepy.editor import VideoFileClip, concatenate_videoclips, concatenate_audioclips\n",
        "from tempfile import TemporaryDirectory\n",
        "from moviepy.video.fx.all import resize\n",
        "\n",
        "def download_video(url, temp_dir):\n",
        "    local_filename = os.path.join(temp_dir, url.split('/')[-1])\n",
        "    with requests.get(url, stream=True) as r:\n",
        "        r.raise_for_status()\n",
        "        with open(local_filename, 'wb') as f:\n",
        "            for chunk in r.iter_content(chunk_size=8192):\n",
        "                f.write(chunk)\n",
        "    return local_filename\n",
        "\n",
        "def process_broll_clip(b_roll_clip, segment_duration, original_audio, start):\n",
        "    b_roll_duration = b_roll_clip.duration\n",
        "    if b_roll_duration < segment_duration:\n",
        "        num_loops = int(segment_duration / b_roll_duration) + 1\n",
        "        b_roll_clip = concatenate_videoclips([b_roll_clip] * num_loops)\n",
        "        b_roll_clip = b_roll_clip.subclip(0, segment_duration)\n",
        "    else:\n",
        "        b_roll_clip = b_roll_clip.subclip(0, segment_duration)\n",
        "\n",
        "    b_roll_clip = resize(b_roll_clip, newsize=(original_clip.w, original_clip.h))\n",
        "\n",
        "    # Set audio from the original video to the b-roll clip\n",
        "    b_roll_clip = b_roll_clip.set_audio(original_audio.subclip(start, start + segment_duration))\n",
        "\n",
        "    return b_roll_clip\n",
        "\n",
        "def concatenate_clips_with_audio(clips):\n",
        "    audio_clips = [clip.audio for clip in clips if clip.audio is not None]\n",
        "    video_clips = [clip for clip in clips]\n",
        "\n",
        "    final_video = concatenate_videoclips(video_clips, method=\"compose\")\n",
        "\n",
        "    if audio_clips:\n",
        "        final_audio = concatenate_audioclips(audio_clips)\n",
        "        final_video = final_video.set_audio(final_audio)\n",
        "\n",
        "    return final_video\n",
        "\n",
        "# Load the original video\n",
        "original_video_path = 'video.mp4'\n",
        "original_video = VideoFileClip(original_video_path)\n",
        "original_audio = original_video.audio\n",
        "\n",
        "with TemporaryDirectory() as temp_dir:\n",
        "    final_clips = []\n",
        "\n",
        "    for segment in extracted_data:\n",
        "        start = segment['start']\n",
        "        end = segment['end']\n",
        "        segment_duration = end - start\n",
        "\n",
        "        original_clip = original_video.subclip(start, end)\n",
        "\n",
        "        if 'video' in segment and segment[\"video\"] != \"Invalid keyword\":\n",
        "            print(\"Segment\", segment)\n",
        "            b_roll_video_url = segment['video']['video']\n",
        "            b_roll_video_path = download_video(b_roll_video_url, temp_dir)\n",
        "            b_roll_clip = VideoFileClip(b_roll_video_path)\n",
        "\n",
        "            b_roll_clip = process_broll_clip(b_roll_clip, segment_duration, original_audio, start)\n",
        "\n",
        "            final_clips.append(b_roll_clip)\n",
        "        else:\n",
        "            final_clips.append(original_clip)\n",
        "\n",
        "    final_video = concatenate_clips_with_audio(final_clips)\n",
        "\n",
        "    final_video.write_videofile('final_video_with_broll.mp4', audio_codec='aac')"
      ]
    }
  ],
  "metadata": {
    "accelerator": "GPU",
    "colab": {
      "gpuType": "T4",
      "provenance": [],
      "authorship_tag": "ABX9TyOWWCayXubTuluU93BwgLXG",
      "include_colab_link": true
    },
    "kernelspec": {
      "display_name": "Python 3",
      "name": "python3"
    },
    "language_info": {
      "name": "python"
    }
  },
  "nbformat": 4,
  "nbformat_minor": 0
}